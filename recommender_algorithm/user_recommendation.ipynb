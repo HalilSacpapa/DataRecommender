{
 "cells": [
  {
   "cell_type": "code",
   "execution_count": 156,
   "metadata": {},
   "outputs": [],
   "source": [
    "# dataframe manipulation\n",
    "import numpy as np\n",
    "import pandas as pd\n",
    "\n",
    "# vectorization\n",
    "from sklearn.preprocessing import LabelEncoder, StandardScaler\n",
    "\n",
    "# cosine similarity\n",
    "from sklearn.metrics.pairwise import cosine_similarity, pairwise_distances\n",
    "import numpy as np\n",
    "\n",
    "# system\n",
    "from sys import exit as sysexit\n",
    "import statistics\n",
    "from datetime import datetime"
   ]
  },
  {
   "cell_type": "code",
   "execution_count": 157,
   "metadata": {},
   "outputs": [],
   "source": [
    "# import original dataset\n",
    "df = pd.read_csv(\"../datasets/KaDo.csv\", sep=\",\")"
   ]
  },
  {
   "cell_type": "code",
   "execution_count": 158,
   "metadata": {},
   "outputs": [],
   "source": [
    "# define vectorized dataframe and reindex it\n",
    "vec_df = df.reindex(columns=['CLI_ID', 'MOIS_VENTE', 'PRIX_NET', 'FAMILLE', 'UNIVERS', 'MAILLE', 'LIBELLE'])\n",
    "# vectorized_df = df.sort_values(by=['CLI_ID'])\n",
    "# vectorized_df.cov()"
   ]
  },
  {
   "cell_type": "code",
   "execution_count": 159,
   "metadata": {},
   "outputs": [],
   "source": [
    "# # normalize numerical variables\n",
    "# scaler = StandardScaler()\n",
    "# df[[\"MOIS_VENTE\", \"PRIX_NET\"]] = scaler.fit_transform(df[[\"MOIS_VENTE\", \"PRIX_NET\"]])\n",
    "\n",
    "# vectorize text variables\n",
    "encoder = LabelEncoder()\n",
    "vec_df[\"FAMILLE\"] = encoder.fit_transform(vec_df[\"FAMILLE\"])\n",
    "vec_df[\"UNIVERS\"] = encoder.fit_transform(vec_df[\"UNIVERS\"])\n",
    "vec_df[\"MAILLE\"] = encoder.fit_transform(vec_df[\"MAILLE\"])\n",
    "\n",
    "vec_df[\"LIBELLE\"] = vec_df[\"LIBELLE\"].apply(hash)\n",
    "\n",
    "# normalize every variables\n",
    "scaler = StandardScaler()\n",
    "vec_df[[\"MOIS_VENTE\", \"PRIX_NET\", \"FAMILLE\", \"UNIVERS\", \"MAILLE\", \"LIBELLE\"]] = scaler.fit_transform(vec_df[[\"MOIS_VENTE\", \"PRIX_NET\", \"FAMILLE\", \"UNIVERS\", \"MAILLE\", \"LIBELLE\"]])\n",
    "\n",
    "# remove unused columns\n",
    "# vec_df.drop(['MOIS_VENTE', 'PRIX_NET', 'FAMILLE', 'UNIVERS', 'MAILLE', 'LIBELLE'], axis=1, inplace=True)"
   ]
  },
  {
   "cell_type": "code",
   "execution_count": 165,
   "metadata": {},
   "outputs": [],
   "source": [
    "# export dataframe to csv\n",
    "# vec_df.to_csv(\"../datasets/vectorized_KaDo.csv\", sep=\",\", index=False)"
   ]
  },
  {
   "cell_type": "code",
   "execution_count": 181,
   "metadata": {},
   "outputs": [
    {
     "name": "stdout",
     "output_type": "stream",
     "text": [
      "     TICKET_ID  MOIS_VENTE  PRIX_NET          FAMILLE  \\\n",
      "444   35473166           9     15.50       MAQUILLAGE   \n",
      "166   33187009           1      1.50          HYGIENE   \n",
      "252   34367874           6      3.00          HYGIENE   \n",
      "482   35942197          11      4.45   SOINS DU CORPS   \n",
      "86    33923246           4      3.45  SOINS DU VISAGE   \n",
      "..         ...         ...       ...              ...   \n",
      "449   36113648          12      1.90   SOINS DU CORPS   \n",
      "545   33079331           1      5.95  SOINS DU VISAGE   \n",
      "209   34083250           5      5.94       MAQUILLAGE   \n",
      "312   36129395          12      1.95          HYGIENE   \n",
      "88    34205098           5      2.50  SOINS DU VISAGE   \n",
      "\n",
      "                         UNIVERS                       MAILLE  \\\n",
      "444             MAQ_LEV BRILLANT              MAQ_LEV_BASPRIX   \n",
      "166       HYG_DOUCHE JARDINMONDE                      HYG_JDM   \n",
      "252            HYG_DOUCHE HOMMES                    HYG_HOMME   \n",
      "482   CORPS_SOIN PIEDS ET JAMBES  CORPS_HYDRA_NOURRI_ET_SOINS   \n",
      "86   VIS_DEMAQ Jeunes Specifique           VIS_JEUNE_ET_LEVRE   \n",
      "..                           ...                          ...   \n",
      "449         CORPS_SOIN DES MAINS  CORPS_HYDRA_NOURRI_ET_SOINS   \n",
      "545               VIS_DEMAQ AAAR         VIS_AAAR_DEMAQLOTION   \n",
      "209              MAQ_YEUX Stylos           MAQ_YEUX_CLASSIQUE   \n",
      "312          HYG_DOUCHE EDT NOEL       HYG_MONOI_ET_EDIT_SPEC   \n",
      "88               VIS_SOIN LEVRES           VIS_JEUNE_ET_LEVRE   \n",
      "\n",
      "                                LIBELLE     CLI_ID               SIMIL  \n",
      "444  GLOSS SEXYPULP CRISTAL 08 CN3 10ML  365845758                 1.0  \n",
      "166          CD JDM4 MACADAMIA FL 200ML   93806295                 1.0  \n",
      "252  GEL DOUCHE FRAICHEUR VETIVER 200ML  195207210                 1.0  \n",
      "482          SVC PIEDS CR DEO 12H T50ML  372367788                 1.0  \n",
      "86            GEL NETT HYDRA VEG T125ML   69813934  1.0000000000000002  \n",
      "..                                  ...        ...                 ...  \n",
      "449    CREME MAINS T75 ml FRUITS ROUGES  365845758                 1.0  \n",
      "545          LAIT DEMAQ 2010 SV FL200ML  373876169                 1.0  \n",
      "209         PORTE MINE VERT 03 CN3 0.3G  169985247                 1.0  \n",
      "312              GM 200ml FRUITS ROUGES  275493987                 1.0  \n",
      "88              BAUME LEVRES VANILLE 4G   69813934  1.0000000000000002  \n",
      "\n",
      "[70 rows x 9 columns]\n"
     ]
    }
   ],
   "source": [
    "# pairwise_distances(previous_purchases, other_purchases, metric='cosine')\n",
    "# ACP (stat) (concat des colonnes entre-elles)\n",
    "\n",
    "# cli_id = 1490281\n",
    "# cli_id = 21351166\n",
    "cli_id = 90822328\n",
    "# cli_id = 126716008\n",
    "\n",
    "# get the 5 most similar product depending client's previous purchases\n",
    "client_purchases = vec_df[vec_df['CLI_ID'] == cli_id]\n",
    "other_purchases = vec_df[vec_df['CLI_ID'] != cli_id]\n",
    "similarities = cosine_similarity(client_purchases, other_purchases)\n",
    "top_indices = similarities.argsort()[:, -5:]\n",
    "\n",
    "# get input items from client purchases\n",
    "product_input_label = df[df['CLI_ID'] == cli_id]['LIBELLE'].tolist()\n",
    "product_input = df[df['CLI_ID'] == cli_id].values.tolist()\n",
    "\n",
    "# format output items and similarities in a single dataframe\n",
    "base_recommendation = pd.DataFrame()\n",
    "similarities_percentages = []\n",
    "for elem, i in zip(top_indices, range(len(top_indices))):\n",
    "    base_recommendation = pd.concat([base_recommendation, df.iloc[elem]])\n",
    "    top_articles = df.iloc[elem]['LIBELLE'].tolist()\n",
    "    for line, n in zip(top_articles, range(len(top_articles))):\n",
    "        similarities_percentages.append(str(similarities[i][top_indices[i]][n]))\n",
    "base_recommendation['SIMIL'] = similarities_percentages\n",
    "\n",
    "print(base_recommendation)"
   ]
  },
  {
   "cell_type": "code",
   "execution_count": 182,
   "metadata": {},
   "outputs": [
    {
     "name": "stdout",
     "output_type": "stream",
     "text": [
      "['SOINS DU VISAGE', 'MAQUILLAGE', 'HYGIENE', 'SOINS DU CORPS']\n",
      "['VIS_DEMAQ Jeunes Specifique', 'MAQ_LEV RAL Lum4', 'VIS_LOTIONS Jeunes Specifique', 'VIS_MASQUE Jeunes Specifique', 'MAQ_YEUX Crayons', 'VIS_CJOUR Jeunes Specifique', 'VIS_SOIN LEVRES', 'CORPS_HYDRA NOURRISANT', 'VIS_CJOUR AAAR', 'HYG_DOUCHE JARDINMONDE', 'HYG_DOUCHE PLAISIRNATURE', 'HYG_DOUCHE MONOI']\n",
      "['VIS_JEUNE_ET_LEVRE', 'MAQ_LEV_BASPRIX', 'MAQ_YEUX_CLASSIQUE', 'CORPS_HYDRA_NOURRI_ET_SOINS', 'VIS_AAAR_HORS_DEMAQLOTION', 'HYG_JDM', 'HYG_PLAISIRNAT_BAIN_SAVON', 'HYG_MONOI_ET_EDIT_SPEC']\n",
      "6.58\n"
     ]
    }
   ],
   "source": [
    "# client's preferences depending on its purchase history\n",
    "current_month = datetime.now().month\n",
    "current_month_df = df.loc[((df['CLI_ID'] == cli_id) & (df['MOIS_VENTE'] == current_month))]\n",
    "# use purchases made at current time of year if available, otherwise use every purchases\n",
    "input_df = current_month_df if not current_month_df.empty else df[df['CLI_ID'] == cli_id]\n",
    "\n",
    "# print(\"Based on current month purchases : {}\".format(not current_month_df.empty))\n",
    "\n",
    "prefered_families = input_df[\"FAMILLE\"].value_counts().index.to_list()\n",
    "prefered_universes = input_df[\"UNIVERS\"].value_counts().index.to_list()\n",
    "prefered_mailles = input_df[\"MAILLE\"].value_counts().index.to_list()\n",
    "\n",
    "average_budget = round(statistics.fmean(input_df[\"PRIX_NET\"].values), 2)\n",
    "\n",
    "print(\"{}\\n{}\\n{}\\n{}\".format(\n",
    "    prefered_families,\n",
    "    prefered_universes,\n",
    "    prefered_mailles,\n",
    "    average_budget))\n",
    "# print(base_recommendation['FAMILLE'])"
   ]
  },
  {
   "cell_type": "code",
   "execution_count": 189,
   "metadata": {},
   "outputs": [
    {
     "name": "stdout",
     "output_type": "stream",
     "text": [
      "[[35473166, 9, 15.5, 'MAQUILLAGE', 'MAQ_LEV BRILLANT', 'MAQ_LEV_BASPRIX', 'GLOSS SEXYPULP CRISTAL 08 CN3 10ML', 365845758, '1.0'], [33187009, 1, 1.5, 'HYGIENE', 'HYG_DOUCHE JARDINMONDE', 'HYG_JDM', 'CD JDM4 MACADAMIA FL 200ML', 93806295, '1.0']]\n"
     ]
    }
   ],
   "source": [
    "# df.loc[((df['CLI_ID'] == cli_id) & (df['MOIS_VENTE'] == current_month))]\n",
    "\n",
    "# filter articles depending on the client's preferences\n",
    "filtered_articles = base_recommendation.loc[(\n",
    "    (base_recommendation['UNIVERS'].isin(prefered_families)) |\n",
    "    (base_recommendation['FAMILLE'].isin(prefered_universes)) |\n",
    "    (base_recommendation['MAILLE'].isin(prefered_mailles))\n",
    ")]\n",
    "# filter articles based on high similarity and low price\n",
    "filtered_articles.sort_values(by=['SIMIL', 'PRIX_NET'])\n",
    "\n",
    "print(filtered_articles.head(2).values.tolist())"
   ]
  }
 ],
 "metadata": {
  "kernelspec": {
   "display_name": "Python 3",
   "language": "python",
   "name": "python3"
  },
  "language_info": {
   "codemirror_mode": {
    "name": "ipython",
    "version": 3
   },
   "file_extension": ".py",
   "mimetype": "text/x-python",
   "name": "python",
   "nbconvert_exporter": "python",
   "pygments_lexer": "ipython3",
   "version": "3.9.6 (default, Sep 26 2022, 11:37:49) \n[Clang 14.0.0 (clang-1400.0.29.202)]"
  },
  "orig_nbformat": 4,
  "vscode": {
   "interpreter": {
    "hash": "31f2aee4e71d21fbe5cf8b01ff0e069b9275f58929596ceb00d14d90e3e16cd6"
   }
  }
 },
 "nbformat": 4,
 "nbformat_minor": 2
}
