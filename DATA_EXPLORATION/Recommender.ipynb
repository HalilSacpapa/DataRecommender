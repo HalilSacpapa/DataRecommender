{
 "cells": [
  {
   "cell_type": "code",
   "execution_count": null,
   "metadata": {},
   "outputs": [],
   "source": [
    "import numpy as np\n",
    "import pandas as pd\n",
    "import matplotlib.pyplot as plt\n",
    "import psycopg2\n",
    "import pandas as pd\n",
    "from sqlalchemy import create_engine"
   ]
  },
  {
   "cell_type": "code",
   "execution_count": null,
   "metadata": {},
   "outputs": [],
   "source": [
    "print(\"Load csv ...\")\n",
    "df = pd.read_csv(\"RAW_DATA/KaDo.csv\", sep=\",\")\n",
    "print(\"Extract to csv file\")\n",
    "size_df = len(df.index)\n",
    "print(\"Base dataframe has\", size_df, \"rows.\")"
   ]
  },
  {
   "cell_type": "code",
   "execution_count": null,
   "metadata": {},
   "outputs": [],
   "source": [
    "### Nettoyage des données\n",
    "\n",
    "# Suppression des lignes possédants des données NULL\n",
    "na_free = df.dropna()\n",
    "only_na = df[~df.index.isin(na_free.index)]\n",
    "df = df.dropna()\n",
    "print(len(only_na.index), \"rows dropped with empty values\")\n",
    "\n",
    "# Vérifier les lignes en double, et supprimer les lignes identitques\n",
    "duplicated_rows = df.duplicated()\n",
    "print(\"DUP:\",duplicated_rows.sum())\n",
    "\n",
    "### Cleaning outliers\n",
    "# Calculating mean value of each product (grouped by LIBELLE column)\n",
    "mean_price = df.groupby(\"LIBELLE\")[\"PRIX_NET\"].mean()\n",
    "\n",
    "# Creating a new column with the mean price of each product\n",
    "df[\"mean_price\"] = df[\"LIBELLE\"].apply(lambda x: mean_price[x])\n",
    "\n",
    "# Finding rows with abnormal prices (more than 3 times the mean price)\n",
    "abnormal_rows = df[df[\"PRIX_NET\"] > 3 * df[\"mean_price\"]]\n",
    "\n",
    "# Removing rows with abnormal prices\n",
    "df = df[~df.index.isin(abnormal_rows.index)]\n",
    "\n",
    "# Printing number of rows after cleaning\n",
    "print(\"Number of rows after cleaning:\", len(df))\n"
   ]
  },
  {
   "cell_type": "code",
   "execution_count": null,
   "metadata": {},
   "outputs": [],
   "source": [
    "# Number of items by FAMILLE / UNIVERS / MAILLE\n",
    "\n",
    "df[\"FAMILLE\"].value_counts().to_csv('DATA_VISUALISATION/famille_occurence.csv')\n",
    "df[\"UNIVERS\"].value_counts().to_csv('DATA_VISUALISATION/univers_occurence.csv')\n",
    "df[\"MAILLE\"].value_counts().to_csv('DATA_VISUALISATION/maille_occurence.csv')\n"
   ]
  },
  {
   "cell_type": "code",
   "execution_count": null,
   "metadata": {},
   "outputs": [],
   "source": [
    "# Popular item by FAMILLE / UNIVERS / MAILLE\n",
    "\n",
    "df_popular_famille = df.groupby(\"FAMILLE\")[\"LIBELLE\"].value_counts().reset_index(name=\"occurence\")[[\"FAMILLE\",\"LIBELLE\",\"occurence\"]].groupby(\"FAMILLE\").apply(lambda x: x.nlargest(1,'occurence'))\n",
    "df_popular_univers = df.groupby(\"UNIVERS\")[\"LIBELLE\"].value_counts().reset_index(name=\"occurence\")[[\"UNIVERS\",\"LIBELLE\",\"occurence\"]].groupby(\"UNIVERS\").apply(lambda x: x.nlargest(1,'occurence'))\n",
    "df_popular_maille = df.groupby(\"MAILLE\")[\"LIBELLE\"].value_counts().reset_index(name=\"occurence\")[[\"MAILLE\",\"LIBELLE\",\"occurence\"]].groupby(\"MAILLE\").apply(lambda x: x.nlargest(1,'occurence'))\n",
    "df_popular_famille.to_csv('DATA_VISUALISATION/popular_item_famille.csv')\n",
    "df_popular_univers.to_csv('DATA_VISUALISATION/popular_item_univers.csv')\n",
    "df_popular_maille.to_csv('DATA_VISUALISATION/popular_item_maille.csv')"
   ]
  },
  {
   "cell_type": "code",
   "execution_count": null,
   "metadata": {},
   "outputs": [],
   "source": [
    "# Mean price by FAMILLE / UNIVERS / MAILLE\n",
    "\n",
    "df.groupby('FAMILLE')['PRIX_NET'].mean().to_csv('DATA_VISUALISATION/price_mean_famille.csv')\n",
    "df.groupby('UNIVERS')['PRIX_NET'].mean().to_csv('DATA_VISUALISATION/price_mean_univers.csv')\n",
    "df.groupby('MAILLE')['PRIX_NET'].mean().to_csv('DATA_VISUALISATION/price_mean_maille.csv')"
   ]
  },
  {
   "cell_type": "code",
   "execution_count": null,
   "metadata": {},
   "outputs": [],
   "source": [
    "# Mean sold items by FAMILLE / UNIVERS / MAILLE\n",
    "\n",
    "df.groupby(['CLI_ID', 'FAMILLE']).size().reset_index(name='counts').groupby(['FAMILLE']).mean().reset_index().to_csv(\"DATA_VISUALISATION/sold_mean_famille.csv\")\n",
    "df.groupby(['CLI_ID', 'UNIVERS']).size().reset_index(name='counts').groupby(['UNIVERS']).mean().reset_index().to_csv(\"DATA_VISUALISATION/sold_mean_univers.csv\")\n",
    "df.groupby(['CLI_ID', 'MAILLE']).size().reset_index(name='counts').groupby(['MAILLE']).mean().reset_index().to_csv(\"DATA_VISUALISATION/sold_mean_maille.csv\")"
   ]
  },
  {
   "cell_type": "code",
   "execution_count": null,
   "metadata": {},
   "outputs": [],
   "source": [
    "# Mean sold item for ticket ID by FAMILLE / UNIVERS / MAILLE\n",
    "\n",
    "df.groupby(['TICKET_ID', 'FAMILLE']).size().reset_index(name='counts').groupby(['FAMILLE']).mean().reset_index().to_csv(\"DATA_VISUALISATION/ticket_mean_famille.csv\")\n",
    "df.groupby(['TICKET_ID', 'UNIVERS']).size().reset_index(name='counts').groupby(['UNIVERS']).mean().reset_index().to_csv(\"DATA_VISUALISATION/ticket_mean_univers.csv\")\n",
    "df.groupby(['TICKET_ID', 'MAILLE']).size().reset_index(name='counts').groupby(['MAILLE']).mean().reset_index().to_csv(\"DATA_VISUALISATION/ticket_mean_maille.csv\")"
   ]
  },
  {
   "cell_type": "code",
   "execution_count": null,
   "metadata": {},
   "outputs": [],
   "source": [
    "# Mean sold item for ticket ID by FAMILLE / UNIVERS / MAILLE\"1490281\"\n",
    "\n",
    "id_client = 13290776\n",
    "id_month = 12\n",
    "\n",
    "df.loc[df['CLI_ID'] == id_client].reset_index() # Loc sur le id_client \n",
    "df.loc[(df['CLI_ID'] == id_client)].groupby('MOIS_VENTE')['PRIX_NET'].mean().reset_index() # Df contenant la moyenne d'argent dépensés par mois\n",
    "df.loc[(df['CLI_ID'] == id_client)].groupby('MOIS_VENTE').size().reset_index(name='COMMANDES') # Df contenant le nombre de commandes moyennes par mois\n",
    "\n",
    "# Df contenant les 3 FAMILLE préférés pour id_client & id_month\n",
    "df_filtered = df.loc[(df['CLI_ID'] == id_client) & (df['MOIS_VENTE'] == id_month)].groupby(['FAMILLE']).size().reset_index(name='COMMANDES')\n",
    "familles_recurrentes = df_filtered.nlargest(3, 'COMMANDES')[['FAMILLE']]\n",
    "print(familles_recurrentes)\n",
    "\n",
    "# Df contenant les 3 UNIVERS préférés pour id_client & id_month\n",
    "df_filtered = df.loc[(df['CLI_ID'] == id_client) & (df['MOIS_VENTE'] == id_month)].groupby(['UNIVERS']).size().reset_index(name='COMMANDES')\n",
    "familles_recurrentes = df_filtered.nlargest(3, 'COMMANDES')[['UNIVERS']]\n",
    "print(familles_recurrentes)\n",
    "\n",
    "# Df contenant les 3 MAILLE préférés pour id_client & id_month\n",
    "df_filtered = df.loc[(df['CLI_ID'] == id_client) & (df['MOIS_VENTE'] == id_month)].groupby(['MAILLE']).size().reset_index(name='COMMANDES')\n",
    "familles_recurrentes = df_filtered.nlargest(3, 'COMMANDES')[['MAILLE']]\n",
    "print(familles_recurrentes)\n",
    "\n",
    "# Df contenant les 3 LIBELLE préférés pour id_client & id_month\n",
    "df_filtered = df.loc[(df['CLI_ID'] == id_client) & (df['MOIS_VENTE'] == id_month)].groupby(['LIBELLE']).size().reset_index(name='COMMANDES')\n",
    "familles_recurrentes = df_filtered.nlargest(3, 'COMMANDES')[['LIBELLE']]\n",
    "print(familles_recurrentes)"
   ]
  },
  {
   "cell_type": "markdown",
   "metadata": {},
   "source": [
    "TODO"
   ]
  }
 ],
 "metadata": {
  "kernelspec": {
   "display_name": "Python 3",
   "language": "python",
   "name": "python3"
  },
  "language_info": {
   "codemirror_mode": {
    "name": "ipython",
    "version": 3
   },
   "file_extension": ".py",
   "mimetype": "text/x-python",
   "name": "python",
   "nbconvert_exporter": "python",
   "pygments_lexer": "ipython3",
   "version": "3.10.6"
  },
  "orig_nbformat": 4,
  "vscode": {
   "interpreter": {
    "hash": "b0fa6594d8f4cbf19f97940f81e996739fb7646882a419484c72d19e05852a7e"
   }
  }
 },
 "nbformat": 4,
 "nbformat_minor": 2
}
